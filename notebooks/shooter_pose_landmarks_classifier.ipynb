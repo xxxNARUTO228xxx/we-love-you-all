{
  "cells": [
    {
      "cell_type": "markdown",
      "metadata": {
        "id": "x5ioh83aA6zL"
      },
      "source": [
        "# pipeline"
      ]
    },
    {
      "cell_type": "markdown",
      "metadata": {
        "id": "z50Qbq4e7uKj"
      },
      "source": [
        "https://www.tensorflow.org/lite/tutorials/pose_classification"
      ]
    },
    {
      "cell_type": "code",
      "execution_count": 1,
      "metadata": {
        "id": "iNY3x1xmFLT9"
      },
      "outputs": [],
      "source": [
        "# pip install -q opencv-python"
      ]
    },
    {
      "cell_type": "code",
      "execution_count": 2,
      "metadata": {
        "id": "Yx3GLH-i9kY9"
      },
      "outputs": [],
      "source": [
        "import csv\n",
        "import cv2\n",
        "import itertools\n",
        "import numpy as np\n",
        "import pandas as pd\n",
        "import os\n",
        "import sys\n",
        "import tempfile\n",
        "import tqdm\n",
        "\n",
        "from matplotlib import pyplot as plt\n",
        "from matplotlib.collections import LineCollection\n",
        "import matplotlib.pyplot as plt\n",
        "import matplotlib.image as mpimg\n",
        "\n",
        "import torch\n",
        "import torch.nn as nn\n",
        "import torch.nn.functional as F\n",
        "import torchmetrics\n",
        "import pytorch_lightning as pl\n",
        "from torch.utils.data import DataLoader, Dataset\n",
        "\n",
        "from sklearn.preprocessing import LabelEncoder\n",
        "from sklearn.model_selection import train_test_split\n",
        "from sklearn.metrics import accuracy_score, classification_report, confusion_matrix\n",
        "\n",
        "from sklearn.utils.discovery import all_displays"
      ]
    },
    {
      "cell_type": "code",
      "execution_count": 3,
      "metadata": {
        "id": "Ogqxq3hc9tEn"
      },
      "outputs": [],
      "source": [
        "def load_pose_landmarks(csv_path):\n",
        "    \"\"\"Loads a CSV created by MoveNetPreprocessor.\n",
        "\n",
        "    Returns:\n",
        "      X: Detected landmark coordinates and scores of shape (N, 25 * 4)\n",
        "      y: Ground truth labels of shape (N, label_count = 30)\n",
        "      classes: The list of all class names found in the dataset\n",
        "      dataframe: The CSV loaded as a Pandas dataframe features (X) and ground\n",
        "        truth labels (y) to use later to train a pose classification model.\n",
        "    \"\"\"\n",
        "    col_to_remove = [\n",
        "        \"LEFT_KNEE_x\",\n",
        "        \"LEFT_KNEE_y\",\n",
        "        \"LEFT_KNEE_z\",\n",
        "        \"LEFT_KNEE_visibility\",\n",
        "        \"RIGHT_KNEE_x\",\n",
        "        \"RIGHT_KNEE_y\",\n",
        "        \"RIGHT_KNEE_z\",\n",
        "        \"RIGHT_KNEE_visibility\",\n",
        "        \"LEFT_ANKLE_x\",\n",
        "        \"LEFT_ANKLE_y\",\n",
        "        \"LEFT_ANKLE_z\",\n",
        "        \"LEFT_ANKLE_visibility\",\n",
        "        \"RIGHT_ANKLE_x\",\n",
        "        \"RIGHT_ANKLE_y\",\n",
        "        \"RIGHT_ANKLE_z\",\n",
        "        \"RIGHT_ANKLE_visibility\",\n",
        "        \"LEFT_HEEL_x\",\n",
        "        \"LEFT_HEEL_y\",\n",
        "        \"LEFT_HEEL_z\",\n",
        "        \"LEFT_HEEL_visibility\",\n",
        "        \"RIGHT_HEEL_x\",\n",
        "        \"RIGHT_HEEL_y\",\n",
        "        \"RIGHT_HEEL_z\",\n",
        "        \"RIGHT_HEEL_visibility\",\n",
        "        \"LEFT_FOOT_INDEX_x\",\n",
        "        \"LEFT_FOOT_INDEX_y\",\n",
        "        \"LEFT_FOOT_INDEX_z\",\n",
        "        \"LEFT_FOOT_INDEX_visibility\",\n",
        "        \"RIGHT_FOOT_INDEX_x\",\n",
        "        \"RIGHT_FOOT_INDEX_y\",\n",
        "        \"RIGHT_FOOT_INDEX_z\",\n",
        "        \"RIGHT_FOOT_INDEX_visibility\",\n",
        "    ]\n",
        "\n",
        "    # Load the CSV file\n",
        "    dataframe = pd.read_csv(csv_path, index_col=0, delimiter=\";\")\n",
        "    df_to_process = dataframe.copy()\n",
        "    target_all = pd.Series(\n",
        "        [df_to_process.loc[i][0].split(\"/\")[1] for i in range(len(df_to_process))]\n",
        "    )\n",
        "\n",
        "    classes_to_store = [\"base_pose\", \"shooter_pose\"]\n",
        "\n",
        "    # classes  = ['interacting_with_phone', 'reading_newspaper', 'sitting_still', ]\n",
        "    target = [target_i for target_i in target_all if target_i in classes_to_store]\n",
        "    le = LabelEncoder()\n",
        "    le.fit(target)\n",
        "\n",
        "    # Drop the file_name columns as you don't need it during training.\n",
        "    df_to_process.drop(columns=[\"image_path\", \"image_viz_path\"], inplace=True)\n",
        "    df_to_process = df_to_process.drop(col_to_remove, axis=1)\n",
        "    df_to_process[\"label\"] = target_all\n",
        "    df_to_process = df_to_process.loc[\n",
        "        [x in classes_to_store for x in df_to_process[\"label\"]]\n",
        "    ]\n",
        "\n",
        "    X = df_to_process\n",
        "    X = X.drop([\"label\"], axis=1)\n",
        "\n",
        "    # Extract the labels\n",
        "    y = le.transform(target)\n",
        "\n",
        "    # Convert the input features and labels into the correct format for training.\n",
        "    X = X.astype(\"float64\")\n",
        "    # y = keras.utils.to_categorical(y)\n",
        "\n",
        "    return X, y, classes_to_store"
      ]
    },
    {
      "cell_type": "code",
      "execution_count": 4,
      "metadata": {},
      "outputs": [],
      "source": [
        "# define PyTorch dataloader\n",
        "class MatrixDataset(Dataset):\n",
        "    def __init__(self, X, y, class_names):\n",
        "       self.data = X.to_numpy(dtype=np.float32)\n",
        "       self.target = y\n",
        "       self.class_names = class_names\n",
        "       \n",
        "    def __len__(self):\n",
        "        return len(self.data)\n",
        "    \n",
        "    def __getitem__(self, idx):\n",
        "        data = self.data[idx]\n",
        "        label = self.target[idx]\n",
        "        return data, label"
      ]
    },
    {
      "cell_type": "code",
      "execution_count": 5,
      "metadata": {},
      "outputs": [],
      "source": [
        "# define PyTorch Lightning\n",
        "class ClassificationDataModule(pl.LightningDataModule):\n",
        "    def __init__(\n",
        "        self,\n",
        "        annotation_csv_file,\n",
        "        train_val_split,\n",
        "        test_val_split,\n",
        "        batch_size,\n",
        "        num_workers,\n",
        "    ):\n",
        "        super().__init__()\n",
        "\n",
        "        # задаем параметры даталоадера\n",
        "        self.batch_size = batch_size\n",
        "        self.num_workers = num_workers\n",
        "\n",
        "        # задаем данные датасета\n",
        "        X, y, class_names = load_pose_landmarks(annotation_csv_file)\n",
        "\n",
        "        # Split training data (X, y) into (X_train, y_train) and (X_val, y_val)\n",
        "        X_train, X_val, y_train, y_val = train_test_split(\n",
        "            X, y, test_size=train_val_split, random_state=42, stratify=y\n",
        "        )\n",
        "\n",
        "        X_val, X_test, y_val, y_test = train_test_split(\n",
        "            X_val, y_val, test_size=test_val_split, random_state=42, stratify=y_val\n",
        "        )\n",
        "\n",
        "        self.train = MatrixDataset(X_train, y_train, class_names)\n",
        "        self.val = MatrixDataset(X_val, y_val, class_names)\n",
        "        self.test = MatrixDataset(X_test, y_test, class_names)\n",
        "\n",
        "    def prepare_data(self):\n",
        "        pass\n",
        "\n",
        "    def train_dataloader(self):\n",
        "        return DataLoader(\n",
        "            self.train,\n",
        "            batch_size=self.batch_size,\n",
        "            shuffle=True,\n",
        "            num_workers=self.num_workers,\n",
        "        )\n",
        "\n",
        "    def val_dataloader(self):\n",
        "        return DataLoader(\n",
        "            self.val,\n",
        "            batch_size=self.batch_size,\n",
        "            shuffle=False,\n",
        "            num_workers=self.num_workers,\n",
        "        )\n",
        "\n",
        "    def test_dataloader(self):\n",
        "        return DataLoader(\n",
        "            self.test,\n",
        "            batch_size=self.batch_size,\n",
        "            shuffle=False,\n",
        "            num_workers=self.num_workers,\n",
        "        )"
      ]
    },
    {
      "cell_type": "code",
      "execution_count": 6,
      "metadata": {},
      "outputs": [],
      "source": [
        "# define PyTorch Lightning model\n",
        "class ClassifierNet(nn.Module):\n",
        "    def __init__(\n",
        "        self,\n",
        "        model_name,\n",
        "        input_shape,\n",
        "        layer1_neurons_num,\n",
        "        layer2_neurons_num,\n",
        "        drop_p,\n",
        "        class_labels,\n",
        "    ):\n",
        "        super(ClassifierNet, self).__init__()\n",
        "\n",
        "        self.model_name = model_name\n",
        "        self.input_shape = input_shape\n",
        "        self.class_labels = class_labels\n",
        "        self.num_classes = len(self.class_labels)\n",
        "\n",
        "        self.fc1 = nn.Linear(input_shape, layer1_neurons_num)\n",
        "        self.bn1 = nn.BatchNorm1d(layer1_neurons_num)\n",
        "        self.drop1 = nn.Dropout(drop_p)\n",
        "        self.relu1 = nn.ReLU()\n",
        "        self.fc2 = nn.Linear(layer1_neurons_num, layer2_neurons_num)\n",
        "        self.bn2 = nn.BatchNorm1d(layer2_neurons_num)\n",
        "        self.drop2 = nn.Dropout(drop_p)\n",
        "        self.relu2 = nn.ReLU()\n",
        "        self.classifier = nn.Linear(layer2_neurons_num, self.num_classes)\n",
        "\n",
        "    def forward(self, x):\n",
        "        # layer 1\n",
        "        x = self.fc1(x)\n",
        "        x = self.bn1(x)\n",
        "        x = self.drop1(x)\n",
        "        x = self.relu1(x)\n",
        "\n",
        "        # layer 2\n",
        "        x = self.fc2(x)\n",
        "        x = self.bn2(x)\n",
        "        x = self.drop2(x)\n",
        "        x = self.relu2(x)\n",
        "\n",
        "        # classifier\n",
        "        x = self.classifier(x)\n",
        "\n",
        "        return x\n",
        "\n",
        "\n",
        "class Classifier(pl.LightningModule):\n",
        "    def __init__(\n",
        "        self,\n",
        "        model_name,\n",
        "        input_shape,\n",
        "        layer1_neurons_num,\n",
        "        layer2_neurons_num,\n",
        "        drop_p,\n",
        "        class_labels,\n",
        "        learning_rate,\n",
        "    ):\n",
        "        super(Classifier, self).__init__()\n",
        "\n",
        "        # log hyperparameters\n",
        "        self.save_hyperparameters()\n",
        "        self.model_name = model_name\n",
        "        self.input_shape = input_shape\n",
        "        self.learning_rate = learning_rate\n",
        "        self.class_labels = class_labels\n",
        "        self.num_classes = len(self.class_labels)\n",
        "\n",
        "        self.neural_net = ClassifierNet(\n",
        "            model_name,\n",
        "            input_shape,\n",
        "            layer1_neurons_num,\n",
        "            layer2_neurons_num,\n",
        "            drop_p,\n",
        "            self.class_labels,\n",
        "        )\n",
        "\n",
        "        self.step = 0\n",
        "        self.train_acc = torchmetrics.classification.Accuracy(\n",
        "            task=\"multiclass\", num_classes=self.num_classes\n",
        "        )\n",
        "        self.valid_acc = torchmetrics.classification.Accuracy(\n",
        "            task=\"multiclass\", num_classes=self.num_classes\n",
        "        )\n",
        "\n",
        "    def forward(self, x):\n",
        "        \"\"\"Прямой проход через модель.\n",
        "\n",
        "        Parameters\n",
        "        ----------\n",
        "        x : torch.tensor\n",
        "            batch обучающих картинок\n",
        "\n",
        "        Returns\n",
        "        -------\n",
        "        torch.tensor\n",
        "            логиты нейросети\n",
        "        \"\"\"\n",
        "        return self.neural_net(x)\n",
        "\n",
        "    def training_step(self, batch, batch_idx):\n",
        "        x, y = batch\n",
        "        logits = self.forward(x)\n",
        "        loss = F.cross_entropy(logits, y)\n",
        "\n",
        "        probabilities = torch.nn.functional.softmax(logits, dim=1)\n",
        "        predicted_class = torch.argmax(probabilities, dim=1)\n",
        "        train_acc = self.train_acc(predicted_class, y)\n",
        "        self.step += 1\n",
        "\n",
        "        self.log(\"train_loss\", loss, prog_bar=True)\n",
        "        self.log(\"train_step\", self.step)\n",
        "        self.log(\"train_acc\", train_acc, on_step=True, on_epoch=False, prog_bar=True)\n",
        "        return loss\n",
        "\n",
        "    def validation_step(self, batch, batch_idx):\n",
        "        x, y = batch\n",
        "        logits = self.forward(x)\n",
        "        loss = F.cross_entropy(logits, y)\n",
        "\n",
        "        probabilities = torch.nn.functional.softmax(logits, dim=1)\n",
        "        predicted_class = torch.argmax(probabilities, dim=1)\n",
        "        valid_acc = self.valid_acc(predicted_class, y)\n",
        "        self.log(\"valid_acc\", valid_acc, on_step=True, on_epoch=True, prog_bar=True)\n",
        "        self.log(\"val_loss\", loss, prog_bar=True)\n",
        "        return loss\n",
        "\n",
        "    def test_step(self, batch, batch_idx):\n",
        "        x, y = batch\n",
        "        y_hat = self.forward(x)\n",
        "        loss = F.cross_entropy(y_hat, y)\n",
        "        self.log(\"val_loss\", loss)\n",
        "        return loss\n",
        "\n",
        "    # def predict_step(self, batch, batch_idx):\n",
        "    #     return self(batch)\n",
        "\n",
        "    def predict_step(self, batch, batch_idx, dataloader_idx=0):\n",
        "        logits = self(batch)\n",
        "        probabilities = torch.nn.functional.softmax(logits, dim=1)\n",
        "        predicted_class = torch.argmax(probabilities, dim=1)\n",
        "        return predicted_class\n",
        "\n",
        "    def configure_optimizers(self):\n",
        "        return torch.optim.Adam(self.parameters(), lr=self.learning_rate)"
      ]
    },
    {
      "cell_type": "markdown",
      "metadata": {},
      "source": [
        "# Обучение модели"
      ]
    },
    {
      "cell_type": "code",
      "execution_count": 7,
      "metadata": {},
      "outputs": [],
      "source": [
        "# разбивка данных на train, val, test\n",
        "annotation_csv_file = \"../data_clf/key_points_data.csv\"\n",
        "train_val_split = 0.3\n",
        "test_val_split = 0.5\n",
        "\n",
        "# параметры обучаемой модели\n",
        "model_name = \"shooter_pose\"\n",
        "input_shape = 100\n",
        "layer1_neurons_num = 128\n",
        "layer2_neurons_num = 64\n",
        "drop_p = 0.3\n",
        "class_labels = [\"base_pose\", \"shooter_pose\"]\n",
        "learning_rate = 0.001"
      ]
    },
    {
      "cell_type": "code",
      "execution_count": 8,
      "metadata": {},
      "outputs": [
        {
          "name": "stderr",
          "output_type": "stream",
          "text": [
            "/tmp/ipykernel_405742/2992053328.py:50: FutureWarning: Series.__getitem__ treating keys as positions is deprecated. In a future version, integer keys will always be treated as labels (consistent with DataFrame behavior). To access a value by position, use `ser.iloc[pos]`\n",
            "  [df_to_process.loc[i][0].split(\"/\")[1] for i in range(len(df_to_process))]\n"
          ]
        }
      ],
      "source": [
        "# создаем загрузчик данных\n",
        "dm = ClassificationDataModule(\n",
        "    annotation_csv_file, train_val_split, test_val_split, batch_size=64, num_workers=12\n",
        ")"
      ]
    },
    {
      "cell_type": "code",
      "execution_count": 9,
      "metadata": {},
      "outputs": [
        {
          "name": "stderr",
          "output_type": "stream",
          "text": [
            "GPU available: True (cuda), used: True\n",
            "TPU available: False, using: 0 TPU cores\n",
            "IPU available: False, using: 0 IPUs\n",
            "HPU available: False, using: 0 HPUs\n",
            "/home/admin-gpu/miniconda3/envs/yolov8/lib/python3.10/site-packages/pytorch_lightning/trainer/connectors/logger_connector/logger_connector.py:67: UserWarning: Starting from v1.9.0, `tensorboardX` has been removed as a dependency of the `pytorch_lightning` package, due to potential conflicts with other packages in the ML ecosystem. For this reason, `logger=True` will use `CSVLogger` as the default logger, unless the `tensorboard` or `tensorboardX` packages are found. Please `pip install lightning[extra]` or one of them to enable TensorBoard support by default\n",
            "  warning_cache.warn(\n"
          ]
        }
      ],
      "source": [
        "# создаем модель для подбора опт. learning rate\n",
        "model = Classifier(\n",
        "    model_name,\n",
        "    input_shape,\n",
        "    layer1_neurons_num,\n",
        "    layer2_neurons_num,\n",
        "    drop_p,\n",
        "    class_labels,\n",
        "    learning_rate,\n",
        ")\n",
        "\n",
        "trainer = pl.Trainer(accelerator=\"gpu\", log_every_n_steps=10)"
      ]
    },
    {
      "cell_type": "code",
      "execution_count": 10,
      "metadata": {},
      "outputs": [
        {
          "name": "stderr",
          "output_type": "stream",
          "text": [
            "/home/admin-gpu/miniconda3/envs/yolov8/lib/python3.10/site-packages/pytorch_lightning/loops/utilities.py:94: PossibleUserWarning: `max_epochs` was not set. Setting it to 1000 epochs. To train without an epoch limit, set `max_epochs=-1`.\n",
            "  rank_zero_warn(\n",
            "You are using a CUDA device ('NVIDIA A10') that has Tensor Cores. To properly utilize them, you should set `torch.set_float32_matmul_precision('medium' | 'high')` which will trade-off precision for performance. For more details, read https://pytorch.org/docs/stable/generated/torch.set_float32_matmul_precision.html#torch.set_float32_matmul_precision\n",
            "Missing logger folder: /home/admin-gpu/Downloads/we-love-you-all/notebooks/lightning_logs\n",
            "LOCAL_RANK: 0 - CUDA_VISIBLE_DEVICES: [0]\n",
            "Finding best initial lr:   0%|          | 0/100 [00:00<?, ?it/s]/home/admin-gpu/miniconda3/envs/yolov8/lib/python3.10/site-packages/pytorch_lightning/trainer/connectors/logger_connector/result.py:232: UserWarning: You called `self.log('train_step', ...)` in your `training_step` but the value needs to be floating point. Converting it to torch.float32.\n",
            "  warning_cache.warn(\n",
            "Finding best initial lr:  96%|█████████▌| 96/100 [00:00<00:00, 109.32it/s]`Trainer.fit` stopped: `max_steps=100` reached.\n",
            "Finding best initial lr: 100%|██████████| 100/100 [00:00<00:00, 132.42it/s]\n",
            "Restoring states from the checkpoint path at /home/admin-gpu/Downloads/we-love-you-all/notebooks/.lr_find_97481e41-92a3-4809-9fb4-e2f2ed4ac4e0.ckpt\n",
            "Restored all states from the checkpoint file at /home/admin-gpu/Downloads/we-love-you-all/notebooks/.lr_find_97481e41-92a3-4809-9fb4-e2f2ed4ac4e0.ckpt\n"
          ]
        }
      ],
      "source": [
        "# запустим процесс подбора learning rate\n",
        "lr_finder = trainer.tuner.lr_find(model, dm)"
      ]
    },
    {
      "cell_type": "code",
      "execution_count": 11,
      "metadata": {},
      "outputs": [
        {
          "data": {
            "text/plain": [
              "{'lr': [1e-08,\n",
              "  1.4454397707459274e-08,\n",
              "  1.7378008287493753e-08,\n",
              "  2.0892961308540398e-08,\n",
              "  2.51188643150958e-08,\n",
              "  3.019951720402016e-08,\n",
              "  3.630780547701014e-08,\n",
              "  4.36515832240166e-08,\n",
              "  5.248074602497726e-08,\n",
              "  6.309573444801934e-08,\n",
              "  7.585775750291837e-08,\n",
              "  9.120108393559096e-08,\n",
              "  1.0964781961431852e-07,\n",
              "  1.3182567385564074e-07,\n",
              "  1.5848931924611133e-07,\n",
              "  1.9054607179632475e-07,\n",
              "  2.2908676527677735e-07,\n",
              "  2.7542287033381663e-07,\n",
              "  3.311311214825911e-07,\n",
              "  3.9810717055349735e-07,\n",
              "  4.786300923226383e-07,\n",
              "  5.75439937337157e-07,\n",
              "  6.918309709189366e-07,\n",
              "  8.317637711026709e-07,\n",
              "  1e-06,\n",
              "  1.2022644346174132e-06,\n",
              "  1.445439770745928e-06,\n",
              "  1.7378008287493761e-06,\n",
              "  2.089296130854039e-06,\n",
              "  2.5118864315095797e-06,\n",
              "  3.0199517204020163e-06,\n",
              "  3.630780547701014e-06,\n",
              "  4.365158322401661e-06,\n",
              "  5.248074602497728e-06,\n",
              "  6.3095734448019305e-06,\n",
              "  7.585775750291836e-06,\n",
              "  9.120108393559096e-06,\n",
              "  1.0964781961431852e-05,\n",
              "  1.3182567385564076e-05,\n",
              "  1.584893192461114e-05,\n",
              "  1.9054607179632464e-05,\n",
              "  2.2908676527677725e-05,\n",
              "  2.7542287033381663e-05,\n",
              "  3.311311214825911e-05,\n",
              "  3.9810717055349735e-05,\n",
              "  4.786300923226385e-05,\n",
              "  5.7543993733715664e-05,\n",
              "  6.918309709189363e-05,\n",
              "  8.317637711026709e-05,\n",
              "  0.0001,\n",
              "  0.00012022644346174131,\n",
              "  0.0001445439770745928,\n",
              "  0.00017378008287493763,\n",
              "  0.0002089296130854041,\n",
              "  0.0002511886431509582,\n",
              "  0.0003019951720402019,\n",
              "  0.000363078054770101,\n",
              "  0.0004365158322401656,\n",
              "  0.0005248074602497723,\n",
              "  0.000630957344480193,\n",
              "  0.0007585775750291836,\n",
              "  0.0009120108393559097,\n",
              "  0.0010964781961431851,\n",
              "  0.0013182567385564075,\n",
              "  0.001584893192461114,\n",
              "  0.0019054607179632484,\n",
              "  0.0022908676527677745,\n",
              "  0.002754228703338169,\n",
              "  0.003311311214825908,\n",
              "  0.003981071705534969,\n",
              "  0.00478630092322638,\n",
              "  0.005754399373371567,\n",
              "  0.006918309709189364,\n",
              "  0.008317637711026709,\n",
              "  0.01,\n",
              "  0.012022644346174132,\n",
              "  0.01445439770745928,\n",
              "  0.017378008287493765,\n",
              "  0.02089296130854041,\n",
              "  0.025118864315095822,\n",
              "  0.030199517204020192,\n",
              "  0.036307805477010104,\n",
              "  0.04365158322401657,\n",
              "  0.05248074602497723,\n",
              "  0.0630957344480193,\n",
              "  0.07585775750291836,\n",
              "  0.09120108393559097,\n",
              "  0.10964781961431852,\n",
              "  0.13182567385564073,\n",
              "  0.15848931924611143,\n",
              "  0.19054607179632482,\n",
              "  0.2290867652767775,\n",
              "  0.2754228703338169,\n",
              "  0.3311311214825908,\n",
              "  0.3981071705534969,\n",
              "  0.47863009232263803,\n",
              "  0.5754399373371567,\n",
              "  0.6918309709189363,\n",
              "  0.8317637711026709,\n",
              "  1.0],\n",
              " 'loss': [0.46890122119826444,\n",
              "  0.6118219440574627,\n",
              "  0.7017641362823652,\n",
              "  0.737863491289518,\n",
              "  0.7650631243549902,\n",
              "  0.7806358275225077,\n",
              "  0.7900507412214764,\n",
              "  0.8022739714354896,\n",
              "  0.8102751358348026,\n",
              "  0.8194778241085943,\n",
              "  0.8292106290588358,\n",
              "  0.8387715584724116,\n",
              "  0.8405807338099661,\n",
              "  0.8457550844007984,\n",
              "  0.8485591696104187,\n",
              "  0.8518637596251024,\n",
              "  0.8544824749918286,\n",
              "  0.8562488301799732,\n",
              "  0.8585376368193061,\n",
              "  0.8616877409406883,\n",
              "  0.867521647670325,\n",
              "  0.8666082604638208,\n",
              "  0.8653794221159377,\n",
              "  0.8651705629088352,\n",
              "  0.8717762434195294,\n",
              "  0.8725843872565066,\n",
              "  0.8776510442105926,\n",
              "  0.8804057260721536,\n",
              "  0.8802646468529878,\n",
              "  0.8782770104262371,\n",
              "  0.879842925579946,\n",
              "  0.8807735994801563,\n",
              "  0.8830972975667295,\n",
              "  0.882924155012288,\n",
              "  0.8845309417681998,\n",
              "  0.8871597343555886,\n",
              "  0.8873540882189688,\n",
              "  0.8851447294416993,\n",
              "  0.8875838089478778,\n",
              "  0.8906990240505079,\n",
              "  0.8928672310327688,\n",
              "  0.8938529225441453,\n",
              "  0.8964420255319631,\n",
              "  0.8967634864022856,\n",
              "  0.8974804981755926,\n",
              "  0.9004048287387988,\n",
              "  0.9028858727728312,\n",
              "  0.9026796171645634,\n",
              "  0.9028489209386268,\n",
              "  0.9011866692005244,\n",
              "  0.9023386868819825,\n",
              "  0.9033078178017752,\n",
              "  0.9021765574244277,\n",
              "  0.9009493256039272,\n",
              "  0.8985275763620355,\n",
              "  0.8967048978206965,\n",
              "  0.8953201763449565,\n",
              "  0.8935910918176683,\n",
              "  0.8903982104005004,\n",
              "  0.8874258851373763,\n",
              "  0.8848795587553121,\n",
              "  0.8829475022693244,\n",
              "  0.8787689198798008,\n",
              "  0.8763091533148343,\n",
              "  0.8703419225516483,\n",
              "  0.8636412045442723,\n",
              "  0.8573114901877272,\n",
              "  0.8496002515940618,\n",
              "  0.8421981088838393,\n",
              "  0.833050490631283,\n",
              "  0.8234836406124929,\n",
              "  0.8134558818508139,\n",
              "  0.8047710708697855,\n",
              "  0.794168500909574,\n",
              "  0.7827362854545716,\n",
              "  0.7706366459524058,\n",
              "  0.75859070256231,\n",
              "  0.7497485069224621,\n",
              "  0.7353383839494791,\n",
              "  0.7252010376065043,\n",
              "  0.7137523959128695,\n",
              "  0.6967399726128578,\n",
              "  0.6908495833212546,\n",
              "  0.6801775999542273,\n",
              "  0.6739701726373655,\n",
              "  0.6742649746896103,\n",
              "  0.6611317170526996,\n",
              "  0.6497874618632662,\n",
              "  0.6436102271793568,\n",
              "  0.633500510613559,\n",
              "  0.6312768508691887,\n",
              "  0.6250978334828289,\n",
              "  0.6160870453977813,\n",
              "  0.6149237608959778,\n",
              "  0.6099152701850314,\n",
              "  0.6018534925717278,\n",
              "  0.5965250217433851,\n",
              "  0.5914118172774763,\n",
              "  0.5829201188224168,\n",
              "  0.5789751113033169]}"
            ]
          },
          "execution_count": 11,
          "metadata": {},
          "output_type": "execute_result"
        }
      ],
      "source": [
        "# Results can be found in\n",
        "lr_finder.results"
      ]
    },
    {
      "cell_type": "code",
      "execution_count": 13,
      "metadata": {},
      "outputs": [
        {
          "data": {
            "text/plain": [
              "0.030199517204020192"
            ]
          },
          "execution_count": 13,
          "metadata": {},
          "output_type": "execute_result"
        },
        {
          "data": {
            "image/png": "[encoded data removed]",
            "text/plain": [
              "<Figure size 640x480 with 1 Axes>"
            ]
          },
          "metadata": {},
          "output_type": "display_data"
        }
      ],
      "source": [
        "# Plot with\n",
        "fig = lr_finder.plot(suggest=True)\n",
        "\n",
        "# Pick point based on plot, or get suggestion\n",
        "learning_rate = lr_finder.suggestion()\n",
        "learning_rate"
      ]
    },
    {
      "cell_type": "code",
      "execution_count": 14,
      "metadata": {},
      "outputs": [
        {
          "data": {
            "text/plain": [
              "0.01"
            ]
          },
          "execution_count": 14,
          "metadata": {},
          "output_type": "execute_result"
        }
      ],
      "source": [
        "# зададим новый Lr модели\n",
        "learning_rate = 0.01\n",
        "learning_rate"
      ]
    },
    {
      "cell_type": "markdown",
      "metadata": {},
      "source": [
        "## Непосредственно обучение модели"
      ]
    },
    {
      "cell_type": "code",
      "execution_count": 15,
      "metadata": {},
      "outputs": [],
      "source": [
        "from pytorch_lightning.callbacks.early_stopping import EarlyStopping\n",
        "from pytorch_lightning.callbacks import ModelCheckpoint\n",
        "\n",
        "# создадим обратный вызов на раннюю остановку обучения\n",
        "early_stop_callback = EarlyStopping(monitor=\"val_loss\", patience=10, verbose=False, mode=\"min\")\n",
        "\n",
        "# создадим обратный вызов на сохранение чекпоинта модели,\n",
        "# по интересующей нас метрике\n",
        "# saves top-K checkpoints based on \"val_loss\" metric\n",
        "checkpoint_callback_val_loss = ModelCheckpoint(\n",
        "    save_top_k=5,\n",
        "    monitor=\"val_loss\",\n",
        "    mode=\"min\",\n",
        "    filename=\"check_point-{epoch:02d}-{val_loss:.2f}\",\n",
        ")\n",
        "\n",
        "# saves last-K checkpoints based on \"global_step\" metric\n",
        "# make sure you log it inside your LightningModule\n",
        "checkpoint_callback_last_step = ModelCheckpoint(\n",
        "    save_top_k=1,\n",
        "    monitor=\"train_step\",\n",
        "    mode=\"max\",\n",
        "    filename=\"check_point-{epoch:02d}-{train_step}\",\n",
        ")\n"
      ]
    },
    {
      "cell_type": "code",
      "execution_count": 16,
      "metadata": {},
      "outputs": [
        {
          "name": "stderr",
          "output_type": "stream",
          "text": [
            "GPU available: True (cuda), used: True\n",
            "TPU available: False, using: 0 TPU cores\n",
            "IPU available: False, using: 0 IPUs\n",
            "HPU available: False, using: 0 HPUs\n"
          ]
        }
      ],
      "source": [
        "# добавляем список обратных вызовов в параметр callbacks\n",
        "trainer = pl.Trainer(accelerator=\"gpu\", \n",
        "                     callbacks=[early_stop_callback,\n",
        "                                checkpoint_callback_val_loss,\n",
        "                                checkpoint_callback_last_step],\n",
        "                     log_every_n_steps=10)"
      ]
    },
    {
      "cell_type": "code",
      "execution_count": 17,
      "metadata": {},
      "outputs": [],
      "source": [
        "# создаем модель для обучения\n",
        "model = Classifier(\n",
        "    model_name,\n",
        "    input_shape,\n",
        "    layer1_neurons_num,\n",
        "    layer2_neurons_num,\n",
        "    drop_p,\n",
        "    class_labels,\n",
        "    learning_rate,\n",
        ")"
      ]
    },
    {
      "cell_type": "code",
      "execution_count": 18,
      "metadata": {},
      "outputs": [
        {
          "name": "stderr",
          "output_type": "stream",
          "text": [
            "You are using a CUDA device ('NVIDIA A10') that has Tensor Cores. To properly utilize them, you should set `torch.set_float32_matmul_precision('medium' | 'high')` which will trade-off precision for performance. For more details, read https://pytorch.org/docs/stable/generated/torch.set_float32_matmul_precision.html#torch.set_float32_matmul_precision\n",
            "Missing logger folder: /home/admin-gpu/Downloads/we-love-you-all/notebooks/lightning_logs\n",
            "LOCAL_RANK: 0 - CUDA_VISIBLE_DEVICES: [0]\n",
            "\n",
            "  | Name       | Type               | Params\n",
            "--------------------------------------------------\n",
            "0 | neural_net | ClassifierNet      | 21.7 K\n",
            "1 | train_acc  | MulticlassAccuracy | 0     \n",
            "2 | valid_acc  | MulticlassAccuracy | 0     \n",
            "--------------------------------------------------\n",
            "21.7 K    Trainable params\n",
            "0         Non-trainable params\n",
            "21.7 K    Total params\n",
            "0.087     Total estimated model params size (MB)\n"
          ]
        },
        {
          "name": "stdout",
          "output_type": "stream",
          "text": [
            "Epoch 33: 100%|██████████| 100/100 [00:00<00:00, 110.95it/s, loss=0.152, v_num=0, train_loss=0.0734, train_acc=1.000, valid_acc_step=0.760, valid_acc_epoch=0.914, val_loss=0.238]\n"
          ]
        }
      ],
      "source": [
        "# обучаем модель\n",
        "trainer.fit(model, dm)"
      ]
    },
    {
      "cell_type": "markdown",
      "metadata": {},
      "source": [
        "# Протестируем полученную модель"
      ]
    },
    {
      "cell_type": "code",
      "execution_count": 19,
      "metadata": {},
      "outputs": [
        {
          "data": {
            "text/plain": [
              "Classifier(\n",
              "  (neural_net): ClassifierNet(\n",
              "    (fc1): Linear(in_features=100, out_features=128, bias=True)\n",
              "    (bn1): BatchNorm1d(128, eps=1e-05, momentum=0.1, affine=True, track_running_stats=True)\n",
              "    (drop1): Dropout(p=0.3, inplace=False)\n",
              "    (relu1): ReLU()\n",
              "    (fc2): Linear(in_features=128, out_features=64, bias=True)\n",
              "    (bn2): BatchNorm1d(64, eps=1e-05, momentum=0.1, affine=True, track_running_stats=True)\n",
              "    (drop2): Dropout(p=0.3, inplace=False)\n",
              "    (relu2): ReLU()\n",
              "    (classifier): Linear(in_features=64, out_features=2, bias=True)\n",
              "  )\n",
              "  (train_acc): MulticlassAccuracy()\n",
              "  (valid_acc): MulticlassAccuracy()\n",
              ")"
            ]
          },
          "execution_count": 19,
          "metadata": {},
          "output_type": "execute_result"
        }
      ],
      "source": [
        "# создаем модель и загрузим веса из чекпоинта в нее\n",
        "model = Classifier(\n",
        "    model_name,\n",
        "    input_shape,\n",
        "    layer1_neurons_num,\n",
        "    layer2_neurons_num,\n",
        "    drop_p,\n",
        "    class_labels,\n",
        "    learning_rate,\n",
        ")\n",
        "\n",
        "# забираем лучшую модель\n",
        "best_checkpoint_path = checkpoint_callback_val_loss.best_model_path\n",
        "\n",
        "# модель будет в Pytorch Lightning\n",
        "model = model.load_from_checkpoint(best_checkpoint_path)\n",
        "model.eval()"
      ]
    },
    {
      "cell_type": "code",
      "execution_count": 20,
      "metadata": {},
      "outputs": [
        {
          "name": "stderr",
          "output_type": "stream",
          "text": [
            "GPU available: True (cuda), used: True\n",
            "TPU available: False, using: 0 TPU cores\n",
            "IPU available: False, using: 0 IPUs\n",
            "HPU available: False, using: 0 HPUs\n"
          ]
        }
      ],
      "source": [
        "trainer = pl.Trainer(accelerator=\"gpu\")"
      ]
    },
    {
      "cell_type": "code",
      "execution_count": 21,
      "metadata": {},
      "outputs": [
        {
          "name": "stderr",
          "output_type": "stream",
          "text": [
            "You are using a CUDA device ('NVIDIA A10') that has Tensor Cores. To properly utilize them, you should set `torch.set_float32_matmul_precision('medium' | 'high')` which will trade-off precision for performance. For more details, read https://pytorch.org/docs/stable/generated/torch.set_float32_matmul_precision.html#torch.set_float32_matmul_precision\n",
            "LOCAL_RANK: 0 - CUDA_VISIBLE_DEVICES: [0]\n"
          ]
        },
        {
          "name": "stdout",
          "output_type": "stream",
          "text": [
            "Validation DataLoader 0: 100%|██████████| 18/18 [00:00<00:00, 280.21it/s]\n",
            "────────────────────────────────────────────────────────────────────────────────────────────────────────────────────────\n",
            "     Validate metric           DataLoader 0\n",
            "────────────────────────────────────────────────────────────────────────────────────────────────────────────────────────\n",
            "        val_loss            0.21432045102119446\n",
            "     valid_acc_epoch         0.912848174571991\n",
            "────────────────────────────────────────────────────────────────────────────────────────────────────────────────────────\n"
          ]
        },
        {
          "data": {
            "text/plain": [
              "[{'valid_acc_epoch': 0.912848174571991, 'val_loss': 0.21432045102119446}]"
            ]
          },
          "execution_count": 21,
          "metadata": {},
          "output_type": "execute_result"
        }
      ],
      "source": [
        "# можем проверить на val части датасета\n",
        "trainer.validate(model, dm)"
      ]
    },
    {
      "cell_type": "code",
      "execution_count": 22,
      "metadata": {},
      "outputs": [
        {
          "name": "stderr",
          "output_type": "stream",
          "text": [
            "You are using a CUDA device ('NVIDIA A10') that has Tensor Cores. To properly utilize them, you should set `torch.set_float32_matmul_precision('medium' | 'high')` which will trade-off precision for performance. For more details, read https://pytorch.org/docs/stable/generated/torch.set_float32_matmul_precision.html#torch.set_float32_matmul_precision\n",
            "LOCAL_RANK: 0 - CUDA_VISIBLE_DEVICES: [0]\n"
          ]
        },
        {
          "name": "stdout",
          "output_type": "stream",
          "text": [
            "Testing DataLoader 0: 100%|██████████| 18/18 [00:00<00:00, 382.29it/s]\n",
            "────────────────────────────────────────────────────────────────────────────────────────────────────────────────────────\n",
            "       Test metric             DataLoader 0\n",
            "────────────────────────────────────────────────────────────────────────────────────────────────────────────────────────\n",
            "        val_loss            0.2074560672044754\n",
            "────────────────────────────────────────────────────────────────────────────────────────────────────────────────────────\n"
          ]
        },
        {
          "data": {
            "text/plain": [
              "[{'val_loss': 0.2074560672044754}]"
            ]
          },
          "execution_count": 22,
          "metadata": {},
          "output_type": "execute_result"
        }
      ],
      "source": [
        "# можем проверить на test части датасета\n",
        "trainer.test(model, dm)"
      ]
    },
    {
      "cell_type": "markdown",
      "metadata": {},
      "source": [
        "# Предсказываем на валидации"
      ]
    },
    {
      "cell_type": "code",
      "execution_count": 23,
      "metadata": {},
      "outputs": [],
      "source": [
        "# предсказываем классы на тестовом датасете\n",
        "model_preds = []\n",
        "true_target = []\n",
        "\n",
        "test_dataloader = dm.val_dataloader()\n",
        "\n",
        "for batch, y in test_dataloader:\n",
        "    # input_data = torch.randn(64, 100)\n",
        "    input_data = batch\n",
        "\n",
        "    logits = model(input_data)\n",
        "    probabilities = torch.nn.functional.softmax(logits, dim=1)\n",
        "    predicted_class = torch.argmax(probabilities, dim=1)\n",
        "    model_preds.extend(predicted_class.tolist())\n",
        "    true_target.extend(y.tolist())\n",
        "    \n",
        "model_preds = np.array(model_preds)\n",
        "true_target = np.array(true_target)"
      ]
    },
    {
      "cell_type": "code",
      "execution_count": 25,
      "metadata": {},
      "outputs": [
        {
          "name": "stdout",
          "output_type": "stream",
          "text": [
            "Модель достигает Accuracy на val part: 0.9101527403414196\n",
            "Модель достигает Precision на val part: 0.9101527403414196\n",
            "Модель достигает Recall на val part: 0.9101527403414196\n",
            "Модель достигает F1 на val part: 0.9101527403414196\n"
          ]
        }
      ],
      "source": [
        "from sklearn.metrics import accuracy_score, f1_score, precision_score, recall_score\n",
        "\n",
        "acc_metric = accuracy_score(true_target, model_preds)\n",
        "prec_metric = precision_score(true_target, model_preds, average=\"micro\")\n",
        "recall_metric = recall_score(true_target, model_preds, average=\"micro\")\n",
        "f1_metric = f1_score(true_target, model_preds, average=\"micro\")\n",
        "\n",
        "print(f\"Модель достигает Accuracy на val part: {acc_metric}\")\n",
        "print(f\"Модель достигает Precision на val part: {prec_metric}\")\n",
        "print(f\"Модель достигает Recall на val part: {recall_metric}\")\n",
        "print(f\"Модель достигает F1 на val part: {f1_metric}\")"
      ]
    },
    {
      "cell_type": "markdown",
      "metadata": {},
      "source": [
        "# Предсказываем на Test"
      ]
    },
    {
      "cell_type": "code",
      "execution_count": 26,
      "metadata": {},
      "outputs": [],
      "source": [
        "# предсказываем классы на тестовом датасете\n",
        "model_preds = []\n",
        "true_target = []\n",
        "\n",
        "test_dataloader = dm.test_dataloader()\n",
        "\n",
        "for batch, y in test_dataloader:\n",
        "    # input_data = torch.randn(64, 100)\n",
        "    input_data = batch\n",
        "\n",
        "    logits = model(input_data)\n",
        "    probabilities = torch.nn.functional.softmax(logits, dim=1)\n",
        "    predicted_class = torch.argmax(probabilities, dim=1)\n",
        "    model_preds.extend(predicted_class.tolist())\n",
        "    true_target.extend(y.tolist())\n",
        "    \n",
        "model_preds = np.array(model_preds)\n",
        "true_target = np.array(true_target)\n",
        "    "
      ]
    },
    {
      "cell_type": "code",
      "execution_count": 27,
      "metadata": {},
      "outputs": [
        {
          "name": "stdout",
          "output_type": "stream",
          "text": [
            "Модель достигает Accuracy на test part: 0.9074573225516622\n",
            "Модель достигает Precision на test part: 0.9074573225516622\n",
            "Модель достигает Recall на test part: 0.9074573225516622\n",
            "Модель достигает F1 на test part: 0.9074573225516622\n"
          ]
        }
      ],
      "source": [
        "from sklearn.metrics import accuracy_score, f1_score, precision_score, recall_score\n",
        "\n",
        "acc_metric = accuracy_score(true_target, model_preds)\n",
        "prec_metric = precision_score(true_target, model_preds, average=\"micro\")\n",
        "recall_metric = recall_score(true_target, model_preds, average=\"micro\")\n",
        "f1_metric = f1_score(true_target, model_preds, average=\"micro\")\n",
        "\n",
        "print(f\"Модель достигает Accuracy на test part: {acc_metric}\")\n",
        "print(f\"Модель достигает Precision на test part: {prec_metric}\")\n",
        "print(f\"Модель достигает Recall на test part: {recall_metric}\")\n",
        "print(f\"Модель достигает F1 на test part: {f1_metric}\")"
      ]
    },
    {
      "cell_type": "code",
      "execution_count": 29,
      "metadata": {},
      "outputs": [
        {
          "data": {
            "image/png": "[encoded data removed]",
            "text/plain": [
              "<Figure size 640x480 with 2 Axes>"
            ]
          },
          "metadata": {},
          "output_type": "display_data"
        }
      ],
      "source": [
        "from sklearn.metrics import confusion_matrix, ConfusionMatrixDisplay\n",
        "\n",
        "def confision_matrix_as_picture(y_preds, y_true, class_labels):\n",
        "    cm = confusion_matrix(y_true, y_preds, normalize=\"true\")\n",
        "    cm = np.round((cm * 100), 2)\n",
        "\n",
        "    ConfusionMatrixDisplay(cm, display_labels=class_labels).plot(\n",
        "        xticks_rotation=\"vertical\"\n",
        "    )\n",
        "    \n",
        "confision_matrix_as_picture(model_preds, true_target, class_labels)"
      ]
    },
    {
      "cell_type": "code",
      "execution_count": 30,
      "metadata": {},
      "outputs": [
        {
          "data": {
            "text/plain": [
              "ClassifierNet(\n",
              "  (fc1): Linear(in_features=100, out_features=128, bias=True)\n",
              "  (bn1): BatchNorm1d(128, eps=1e-05, momentum=0.1, affine=True, track_running_stats=True)\n",
              "  (drop1): Dropout(p=0.3, inplace=False)\n",
              "  (relu1): ReLU()\n",
              "  (fc2): Linear(in_features=128, out_features=64, bias=True)\n",
              "  (bn2): BatchNorm1d(64, eps=1e-05, momentum=0.1, affine=True, track_running_stats=True)\n",
              "  (drop2): Dropout(p=0.3, inplace=False)\n",
              "  (relu2): ReLU()\n",
              "  (classifier): Linear(in_features=64, out_features=2, bias=True)\n",
              ")"
            ]
          },
          "execution_count": 30,
          "metadata": {},
          "output_type": "execute_result"
        }
      ],
      "source": [
        "# для инференса преобразуем в PyTorch без Lightning'a\n",
        "torch.save(model.neural_net, \"my_model.pth\")\n",
        "model = torch.load(\"my_model.pth\")\n",
        "os.remove(\"my_model.pth\")\n",
        "model.eval()"
      ]
    },
    {
      "cell_type": "code",
      "execution_count": 31,
      "metadata": {},
      "outputs": [
        {
          "data": {
            "text/plain": [
              "ClassifierNet(\n",
              "  (fc1): Linear(in_features=100, out_features=128, bias=True)\n",
              "  (bn1): BatchNorm1d(128, eps=1e-05, momentum=0.1, affine=True, track_running_stats=True)\n",
              "  (drop1): Dropout(p=0.3, inplace=False)\n",
              "  (relu1): ReLU()\n",
              "  (fc2): Linear(in_features=128, out_features=64, bias=True)\n",
              "  (bn2): BatchNorm1d(64, eps=1e-05, momentum=0.1, affine=True, track_running_stats=True)\n",
              "  (drop2): Dropout(p=0.3, inplace=False)\n",
              "  (relu2): ReLU()\n",
              "  (classifier): Linear(in_features=64, out_features=2, bias=True)\n",
              ")"
            ]
          },
          "execution_count": 31,
          "metadata": {},
          "output_type": "execute_result"
        }
      ],
      "source": [
        "model"
      ]
    }
  ],
  "metadata": {
    "colab": {
      "provenance": []
    },
    "kernelspec": {
      "display_name": "Python 3",
      "name": "python3"
    },
    "language_info": {
      "codemirror_mode": {
        "name": "ipython",
        "version": 3
      },
      "file_extension": ".py",
      "mimetype": "text/x-python",
      "name": "python",
      "nbconvert_exporter": "python",
      "pygments_lexer": "ipython3",
      "version": "3.10.13"
    }
  },
  "nbformat": 4,
  "nbformat_minor": 0
}
