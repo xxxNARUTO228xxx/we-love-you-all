{
 "cells": [
  {
   "cell_type": "code",
   "execution_count": null,
   "id": "initial_id",
   "metadata": {
    "collapsed": true
   },
   "outputs": [],
   "source": [
    "import super_gradients\n",
    "\n",
    "model = models.get(\n",
    "    model_to_train, \n",
    "    num_classes=len(dataset_params['classes']), \n",
    "    checkpoint_path=\"/media/storonkin/Work/projects/we-love-you-all/notebooks/checkpoints/yolo_nas_s/RUN_20231115_003732_749383/ckpt_best.pth\").cuda()\n",
    "\n",
    "result = model.predict(\"/media/storonkin/Work/projects/we-love-you-all/notebooks/images/no_weapon/119.VC7.15.40 Горького, 1Д 2023-09-16 20-00-00_000+0300 [10m0s]-00167.png\",fuse_model=True).show()"
   ]
  },
  {
   "cell_type": "code",
   "execution_count": null,
   "outputs": [],
   "source": [
    "result"
   ],
   "metadata": {
    "collapsed": false
   },
   "id": "de3c647e7bc7e620"
  },
  {
   "cell_type": "code",
   "execution_count": null,
   "outputs": [],
   "source": [
    "import torch\n",
    "\n",
    "\n",
    "def process_video(input_file: str, output_file: str, batch_size: int) -> None:\n",
    "    model = models.get(\n",
    "    model_to_train, \n",
    "    num_classes=len(dataset_params['classes']), \n",
    "    checkpoint_path=\"/media/storonkin/Work/projects/we-love-you-all/notebooks/checkpoints/yolo_nas_s/RUN_20231115_003732_749383/ckpt_best.pth\").cuda()\n",
    "\n",
    "    # We want to use cuda if available to speed up inference.\n",
    "    model = model.to(\"cuda\" if torch.cuda.is_available() else \"cpu\")\n",
    "\n",
    "    # Initialize video capture object\n",
    "    cap = cv2.VideoCapture(input_file)\n",
    "\n",
    "    # Get video properties\n",
    "    fps = cap.get(cv2.CAP_PROP_FPS)\n",
    "    frame_width = int(cap.get(cv2.CAP_PROP_FRAME_WIDTH))\n",
    "    frame_height = int(cap.get(cv2.CAP_PROP_FRAME_HEIGHT))\n",
    "\n",
    "    # Create video writer object\n",
    "    fourcc = cv2.VideoWriter_fourcc(*'mp4v')\n",
    "    out = cv2.VideoWriter(output_file, fourcc, fps, (frame_width, frame_height))\n",
    "\n",
    "    while True:\n",
    "\n",
    "        # Load frames by batch to increase performance\n",
    "        frames = []\n",
    "        for _ in range(batch_size):\n",
    "            ret, frame = cap.read()\n",
    "            if not ret:\n",
    "                break\n",
    "            frames.append(frame)\n",
    "\n",
    "        if not frames:\n",
    "            break\n",
    "\n",
    "        frames_predictions = model.predict(frames)\n",
    "\n",
    "        for frame_prediction in frames_predictions:\n",
    "            out.write(frame_prediction.draw())\n",
    "\n",
    "    # Release video capture and writer objects\n",
    "    cap.release()\n",
    "    out.release()"
   ],
   "metadata": {
    "collapsed": false
   },
   "id": "fcc9a3ce53e582f6"
  },
  {
   "cell_type": "code",
   "execution_count": null,
   "outputs": [],
   "source": [
    "process_video(\"/media/storonkin/Work/projects/we-love-you-all/notebooks/train/train/weapon/frfr.mp4\",\"out.mp4\",1)"
   ],
   "metadata": {
    "collapsed": false
   },
   "id": "164d304b3fe537f3"
  }
 ],
 "metadata": {
  "kernelspec": {
   "display_name": "Python 3",
   "language": "python",
   "name": "python3"
  },
  "language_info": {
   "codemirror_mode": {
    "name": "ipython",
    "version": 2
   },
   "file_extension": ".py",
   "mimetype": "text/x-python",
   "name": "python",
   "nbconvert_exporter": "python",
   "pygments_lexer": "ipython2",
   "version": "2.7.6"
  }
 },
 "nbformat": 4,
 "nbformat_minor": 5
}
