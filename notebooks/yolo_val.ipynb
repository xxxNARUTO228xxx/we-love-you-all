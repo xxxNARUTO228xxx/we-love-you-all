{
 "cells": [
  {
   "cell_type": "code",
   "execution_count": 1,
   "id": "initial_id",
   "metadata": {
    "collapsed": true,
    "ExecuteTime": {
     "end_time": "2023-11-16T08:15:58.293812666Z",
     "start_time": "2023-11-16T08:15:57.467924002Z"
    }
   },
   "outputs": [],
   "source": [
    "from ultralytics import YOLO"
   ]
  },
  {
   "cell_type": "code",
   "execution_count": 3,
   "outputs": [
    {
     "name": "stderr",
     "output_type": "stream",
     "text": [
      "Ultralytics YOLOv8.0.181 🚀 Python-3.10.12 torch-1.13.1+cu117 CUDA:0 (NVIDIA GeForce RTX 3090 Ti, 24245MiB)\n",
      "Model summary (fused): 268 layers, 68125494 parameters, 0 gradients\n",
      "\u001B[34m\u001B[1mval: \u001B[0mScanning /media/storonkin/Work/datasets/dataset_target_1/valid/labels.cache... 5669 images, 415 backgrounds, 0 corrupt: 100%|██████████| 5669/5669 [00:00<?, ?it/s]\n",
      "\u001B[34m\u001B[1mval: \u001B[0mWARNING ⚠️ /media/storonkin/Work/datasets/dataset_target_1/valid/images/Cam5-From09-27-50To09-29-30-Guns_x264_frame_84.jpg: 1 duplicate labels removed\n",
      "WARNING ⚠️ Box and segment counts should be equal, but got len(segments) = 96, len(boxes) = 20135. To resolve this only boxes will be used and all segments will be removed. To avoid this please supply either a detect or segment dataset, not a detect-segment mixed dataset.\n",
      "                 Class     Images  Instances      Box(P          R      mAP50  mAP50-95): 100%|██████████| 5669/5669 [04:40<00:00, 20.23it/s]\n",
      "                   all       5669      20135      0.824      0.756      0.822      0.606\n",
      "                person       5669      15983      0.878      0.874      0.915      0.772\n",
      "                weapon       5669       4152       0.77      0.637       0.73      0.441\n",
      "Speed: 0.4ms preprocess, 35.1ms inference, 0.0ms loss, 0.5ms postprocess per image\n",
      "Results saved to \u001B[1mruns/detect/val\u001B[0m\n"
     ]
    },
    {
     "data": {
      "text/plain": "array([     0.7716,     0.44055])"
     },
     "execution_count": 3,
     "metadata": {},
     "output_type": "execute_result"
    }
   ],
   "source": [
    "# Load a model\n",
    "model = YOLO('/media/storonkin/Work/projects/we-love-you-all/notebooks/runs/detect/train/weights/best.pt')  # load an official model\n",
    "# Validate the model\n",
    "metrics = model.val(batch=1,conf=0.25)  # no arguments needed, dataset and settings remembered\n",
    "metrics.box.map    # map50-95\n",
    "metrics.box.map50  # map50\n",
    "metrics.box.map75  # map75\n",
    "metrics.box.maps   # a list contains map50-95 of each category"
   ],
   "metadata": {
    "collapsed": false,
    "ExecuteTime": {
     "end_time": "2023-11-16T08:23:35.069808398Z",
     "start_time": "2023-11-16T08:18:52.241563209Z"
    }
   },
   "id": "96f3d4941b7ac7db"
  },
  {
   "cell_type": "code",
   "execution_count": null,
   "outputs": [],
   "source": [],
   "metadata": {
    "collapsed": false
   },
   "id": "c1d4b9e067c0cdee"
  }
 ],
 "metadata": {
  "kernelspec": {
   "display_name": "Python 3",
   "language": "python",
   "name": "python3"
  },
  "language_info": {
   "codemirror_mode": {
    "name": "ipython",
    "version": 2
   },
   "file_extension": ".py",
   "mimetype": "text/x-python",
   "name": "python",
   "nbconvert_exporter": "python",
   "pygments_lexer": "ipython2",
   "version": "2.7.6"
  }
 },
 "nbformat": 4,
 "nbformat_minor": 5
}
