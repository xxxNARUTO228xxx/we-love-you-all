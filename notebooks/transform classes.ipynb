{
 "cells": [
  {
   "cell_type": "markdown",
   "source": [
    "Replace classes "
   ],
   "metadata": {
    "collapsed": false
   },
   "id": "26ce64d4757c7953"
  },
  {
   "cell_type": "code",
   "execution_count": null,
   "outputs": [],
   "source": [
    "import os\n",
    "\n",
    "# Задайте путь к директории с файлами аннотаций\n",
    "path_to_annotations = 'path/to/your/annotations/'\n",
    "\n",
    "# Перебираем все файлы в директории аннотаций\n",
    "for filename in os.listdir(path_to_annotations):\n",
    "    if filename.endswith('.txt'):\n",
    "        # Строим полный путь к файлу\n",
    "        file_path = os.path.join(path_to_annotations, filename)\n",
    "        # Читаем содержимое файла\n",
    "        with open(file_path, 'r') as file:\n",
    "            lines = file.readlines()\n",
    "        # Заменяем классы в каждой строке\n",
    "        with open(file_path, 'w') as file:\n",
    "            for line in lines:\n",
    "                parts = line.strip().split()\n",
    "                # Проверяем, что строка содержит класс\n",
    "                if parts and parts[0].isdigit():\n",
    "                    # Изменяем класс (0 -> 1, 1 -> 0)\n",
    "                    if parts[0] == '0':\n",
    "                        parts[0] = '1'\n",
    "                    elif parts[0] == '1':\n",
    "                        parts[0] = '0'\n",
    "                    # Пишем обновленную строку обратно в файл\n",
    "                    file.write(' '.join(parts) + '\\n')\n"
   ],
   "metadata": {
    "collapsed": false
   },
   "id": "d9546c70fca022c0"
  },
  {
   "cell_type": "markdown",
   "source": [
    "Merging files with the same name"
   ],
   "metadata": {
    "collapsed": false
   },
   "id": "3572166592ba7abe"
  },
  {
   "cell_type": "code",
   "execution_count": null,
   "outputs": [],
   "source": [],
   "metadata": {
    "collapsed": false
   },
   "id": "fdccb91fe0261a83"
  }
 ],
 "metadata": {
  "kernelspec": {
   "display_name": "Python 3",
   "language": "python",
   "name": "python3"
  },
  "language_info": {
   "codemirror_mode": {
    "name": "ipython",
    "version": 2
   },
   "file_extension": ".py",
   "mimetype": "text/x-python",
   "name": "python",
   "nbconvert_exporter": "python",
   "pygments_lexer": "ipython2",
   "version": "2.7.6"
  }
 },
 "nbformat": 4,
 "nbformat_minor": 5
}
